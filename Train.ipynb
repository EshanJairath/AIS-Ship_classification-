{
 "cells": [
  {
   "cell_type": "code",
   "execution_count": 146,
   "metadata": {},
   "outputs": [
    {
     "name": "stdout",
     "output_type": "stream",
     "text": [
      "data\\AIS_UNACORN.csv\n",
      "data\\data.csv\n",
      "data\\ObservationsAboutData.md\n"
     ]
    }
   ],
   "source": [
    "import numpy as np # Linear Algebra\n",
    "import pandas as pd # data processing\n",
    "\n",
    "import os \n",
    "for dirname, _, filenames in os.walk('data'):\n",
    "    for filename in filenames:\n",
    "        print(os.path.join(dirname, filename)) "
   ]
  },
  {
   "attachments": {},
   "cell_type": "markdown",
   "metadata": {},
   "source": [
    "#### The Main Aim of this project is to handle a basic classification problem.\n",
    "Can we predict the type of ship in a particular region by looking at its characteristics such as width, length, and values such as course and speed? \n",
    "* The dataset is derived from (DMA) Denmark Maritime Authority’s (open source) AIS information.\n",
    "* Region - Kattegat Strait\n",
    "* Date - Between 1 Jan 2022 to 10 Mar 2022\n"
   ]
  },
  {
   "cell_type": "code",
   "execution_count": 147,
   "metadata": {},
   "outputs": [
    {
     "name": "stdout",
     "output_type": "stream",
     "text": [
      "Requirement already satisfied: lightgbm in c:\\users\\eshan jairath\\appdata\\local\\programs\\python\\python39\\lib\\site-packages (3.3.5)\n",
      "Requirement already satisfied: numpy in c:\\users\\eshan jairath\\appdata\\local\\programs\\python\\python39\\lib\\site-packages (from lightgbm) (1.19.5)\n",
      "Requirement already satisfied: scipy in c:\\users\\eshan jairath\\appdata\\local\\programs\\python\\python39\\lib\\site-packages (from lightgbm) (1.6.3)\n",
      "Requirement already satisfied: scikit-learn!=0.22.0 in c:\\users\\eshan jairath\\appdata\\local\\programs\\python\\python39\\lib\\site-packages (from lightgbm) (0.24.2)\n",
      "Requirement already satisfied: wheel in c:\\users\\eshan jairath\\appdata\\local\\programs\\python\\python39\\lib\\site-packages (from lightgbm) (0.36.2)\n",
      "Requirement already satisfied: threadpoolctl>=2.0.0 in c:\\users\\eshan jairath\\appdata\\local\\programs\\python\\python39\\lib\\site-packages (from scikit-learn!=0.22.0->lightgbm) (2.1.0)\n",
      "Requirement already satisfied: joblib>=0.11 in c:\\users\\eshan jairath\\appdata\\local\\programs\\python\\python39\\lib\\site-packages (from scikit-learn!=0.22.0->lightgbm) (1.0.1)\n"
     ]
    },
    {
     "name": "stderr",
     "output_type": "stream",
     "text": [
      "WARNING: You are using pip version 21.1.2; however, version 23.0.1 is available.\n",
      "You should consider upgrading via the 'c:\\users\\eshan jairath\\appdata\\local\\programs\\python\\python39\\python.exe -m pip install --upgrade pip' command.\n"
     ]
    }
   ],
   "source": [
    "! pip install lightgbm"
   ]
  },
  {
   "cell_type": "code",
   "execution_count": 148,
   "metadata": {},
   "outputs": [
    {
     "name": "stdout",
     "output_type": "stream",
     "text": [
      "All the Libraries have been imported !!\n"
     ]
    }
   ],
   "source": [
    "# importing the important Libraries\n",
    "import seaborn as sns\n",
    "import matplotlib.pyplot as plt\n",
    "from sklearn.preprocessing import RobustScaler\n",
    "from sklearn.model_selection import train_test_split, cross_val_score, GridSearchCV, RandomizedSearchCV\n",
    "from sklearn.metrics import classification_report\n",
    "\n",
    "print('All the Libraries have been imported !!')"
   ]
  },
  {
   "cell_type": "code",
   "execution_count": 149,
   "metadata": {},
   "outputs": [
    {
     "name": "stdout",
     "output_type": "stream",
     "text": [
      " All the models Imported \n"
     ]
    }
   ],
   "source": [
    "from sklearn.linear_model import LogisticRegression\n",
    "from sklearn.tree import DecisionTreeClassifier\n",
    "from sklearn.ensemble import RandomForestClassifier\n",
    "from sklearn.svm import SVC\n",
    "from sklearn.neighbors import KNeighborsClassifier\n",
    "from lightgbm import LGBMClassifier\n",
    "import pandas as pd\n",
    "from sklearn.metrics import accuracy_score\n",
    "\n",
    "\n",
    "print(\" All the models Imported \")"
   ]
  },
  {
   "attachments": {},
   "cell_type": "markdown",
   "metadata": {},
   "source": [
    "\n",
    "\n"
   ]
  },
  {
   "cell_type": "code",
   "execution_count": 150,
   "metadata": {},
   "outputs": [],
   "source": [
    "# Slight Adjustments to the screen settings\n",
    "\n",
    "from warnings import filterwarnings\n",
    "filterwarnings('ignore')\n",
    "pd.set_option('display.max_columns',None)\n",
    "pd.set_option('display.width',500)\n",
    "pd.set_option('display.float_format',lambda x: f'{x:.4f}')"
   ]
  },
  {
   "cell_type": "code",
   "execution_count": 151,
   "metadata": {},
   "outputs": [
    {
     "data": {
      "text/html": [
       "<div>\n",
       "<style scoped>\n",
       "    .dataframe tbody tr th:only-of-type {\n",
       "        vertical-align: middle;\n",
       "    }\n",
       "\n",
       "    .dataframe tbody tr th {\n",
       "        vertical-align: top;\n",
       "    }\n",
       "\n",
       "    .dataframe thead th {\n",
       "        text-align: right;\n",
       "    }\n",
       "</style>\n",
       "<table border=\"1\" class=\"dataframe\">\n",
       "  <thead>\n",
       "    <tr style=\"text-align: right;\">\n",
       "      <th></th>\n",
       "      <th>Unnamed: 0</th>\n",
       "      <th>mmsi</th>\n",
       "      <th>navigationalstatus</th>\n",
       "      <th>sog</th>\n",
       "      <th>cog</th>\n",
       "      <th>heading</th>\n",
       "      <th>shiptype</th>\n",
       "      <th>width</th>\n",
       "      <th>length</th>\n",
       "      <th>draught</th>\n",
       "    </tr>\n",
       "  </thead>\n",
       "  <tbody>\n",
       "    <tr>\n",
       "      <th>0</th>\n",
       "      <td>0</td>\n",
       "      <td>219019621</td>\n",
       "      <td>Unknown value</td>\n",
       "      <td>0.0000</td>\n",
       "      <td>86.0000</td>\n",
       "      <td>86.0000</td>\n",
       "      <td>Fishing</td>\n",
       "      <td>4.0000</td>\n",
       "      <td>9.0000</td>\n",
       "      <td>NaN</td>\n",
       "    </tr>\n",
       "    <tr>\n",
       "      <th>1</th>\n",
       "      <td>1</td>\n",
       "      <td>265628170</td>\n",
       "      <td>Unknown value</td>\n",
       "      <td>0.0000</td>\n",
       "      <td>334.5000</td>\n",
       "      <td>NaN</td>\n",
       "      <td>Port tender</td>\n",
       "      <td>8.0000</td>\n",
       "      <td>27.0000</td>\n",
       "      <td>NaN</td>\n",
       "    </tr>\n",
       "    <tr>\n",
       "      <th>2</th>\n",
       "      <td>2</td>\n",
       "      <td>219005719</td>\n",
       "      <td>Unknown value</td>\n",
       "      <td>0.0000</td>\n",
       "      <td>208.7000</td>\n",
       "      <td>NaN</td>\n",
       "      <td>Fishing</td>\n",
       "      <td>4.0000</td>\n",
       "      <td>11.0000</td>\n",
       "      <td>NaN</td>\n",
       "    </tr>\n",
       "    <tr>\n",
       "      <th>3</th>\n",
       "      <td>3</td>\n",
       "      <td>219028066</td>\n",
       "      <td>Unknown value</td>\n",
       "      <td>0.0000</td>\n",
       "      <td>NaN</td>\n",
       "      <td>NaN</td>\n",
       "      <td>Pleasure</td>\n",
       "      <td>3.0000</td>\n",
       "      <td>12.0000</td>\n",
       "      <td>NaN</td>\n",
       "    </tr>\n",
       "    <tr>\n",
       "      <th>4</th>\n",
       "      <td>4</td>\n",
       "      <td>212584000</td>\n",
       "      <td>Moored</td>\n",
       "      <td>0.0000</td>\n",
       "      <td>153.0000</td>\n",
       "      <td>106.0000</td>\n",
       "      <td>Cargo</td>\n",
       "      <td>13.0000</td>\n",
       "      <td>99.0000</td>\n",
       "      <td>6.3000</td>\n",
       "    </tr>\n",
       "  </tbody>\n",
       "</table>\n",
       "</div>"
      ],
      "text/plain": [
       "   Unnamed: 0       mmsi navigationalstatus    sog      cog  heading     shiptype   width  length  draught\n",
       "0           0  219019621      Unknown value 0.0000  86.0000  86.0000      Fishing  4.0000  9.0000      NaN\n",
       "1           1  265628170      Unknown value 0.0000 334.5000      NaN  Port tender  8.0000 27.0000      NaN\n",
       "2           2  219005719      Unknown value 0.0000 208.7000      NaN      Fishing  4.0000 11.0000      NaN\n",
       "3           3  219028066      Unknown value 0.0000      NaN      NaN     Pleasure  3.0000 12.0000      NaN\n",
       "4           4  212584000             Moored 0.0000 153.0000 106.0000        Cargo 13.0000 99.0000   6.3000"
      ]
     },
     "execution_count": 151,
     "metadata": {},
     "output_type": "execute_result"
    }
   ],
   "source": [
    "# Loading the data\n",
    "\n",
    "df= pd.read_csv('./data/data.csv')\n",
    "df.head()\n",
    "\n",
    "# print('Dataset Loaded !!')"
   ]
  },
  {
   "cell_type": "code",
   "execution_count": 152,
   "metadata": {},
   "outputs": [
    {
     "data": {
      "text/plain": [
       "(358351, 10)"
      ]
     },
     "execution_count": 152,
     "metadata": {},
     "output_type": "execute_result"
    }
   ],
   "source": [
    "df.shape"
   ]
  },
  {
   "cell_type": "code",
   "execution_count": 153,
   "metadata": {},
   "outputs": [],
   "source": [
    "# Let's Remove the unwanted Columns\n",
    "df.drop(['Unnamed: 0'], axis=1, inplace= True)  "
   ]
  },
  {
   "cell_type": "code",
   "execution_count": 154,
   "metadata": {},
   "outputs": [
    {
     "data": {
      "text/plain": [
       "mmsi                      0\n",
       "navigationalstatus        0\n",
       "sog                     458\n",
       "cog                    3169\n",
       "heading               20614\n",
       "shiptype                  0\n",
       "width                  3711\n",
       "length                 3743\n",
       "draught               25543\n",
       "dtype: int64"
      ]
     },
     "execution_count": 154,
     "metadata": {},
     "output_type": "execute_result"
    }
   ],
   "source": [
    "# Let's look at the null values\n",
    "df.isnull().sum() "
   ]
  },
  {
   "cell_type": "code",
   "execution_count": 155,
   "metadata": {},
   "outputs": [
    {
     "name": "stdout",
     "output_type": "stream",
     "text": [
      "<class 'pandas.core.frame.DataFrame'>\n",
      "RangeIndex: 358351 entries, 0 to 358350\n",
      "Data columns (total 9 columns):\n",
      " #   Column              Non-Null Count   Dtype  \n",
      "---  ------              --------------   -----  \n",
      " 0   mmsi                358351 non-null  int64  \n",
      " 1   navigationalstatus  358351 non-null  object \n",
      " 2   sog                 357893 non-null  float64\n",
      " 3   cog                 355182 non-null  float64\n",
      " 4   heading             337737 non-null  float64\n",
      " 5   shiptype            358351 non-null  object \n",
      " 6   width               354640 non-null  float64\n",
      " 7   length              354608 non-null  float64\n",
      " 8   draught             332808 non-null  float64\n",
      "dtypes: float64(6), int64(1), object(2)\n",
      "memory usage: 24.6+ MB\n"
     ]
    }
   ],
   "source": [
    "df.info()"
   ]
  },
  {
   "cell_type": "code",
   "execution_count": 156,
   "metadata": {},
   "outputs": [],
   "source": [
    "# lets do the Exploratory data analysis\n",
    "# cat_th is short for \"categorical threshold\" \n",
    "# car_th is short for \"cardinality threshold\"\n",
    "\n",
    "\n",
    "\n",
    "def grab_col_names(dataframe, cat_th = 10, car_th=20):\n",
    "    #cat_cols, cat_but_car\n",
    "    cat_cols = [col for col in dataframe.columns if dataframe[col].dtypes ==\"O\"] #Object data type\n",
    "    num_but_cat = [col for col in dataframe.columns if dataframe[col].nunique() < cat_th and dataframe[col].dtypes !=\"O\"]\n",
    "    cat_but_car = [col for col in dataframe.columns if dataframe[col].nunique() > car_th and dataframe[col].dtypes == \"O\"]\n",
    "\n",
    "    cat_cols = cat_cols + num_but_cat\n",
    "    cat_cols = [col for col in cat_cols if col not in  cat_but_car]\n",
    "\n",
    "    #num_cols\n",
    "    num_cols = [col for col in dataframe.columns if dataframe[col].dtypes != \"O\"]\n",
    "    num_cols = [col for col in num_cols if col not in num_but_cat]\n",
    "\n",
    "    print(f\"Observations : {dataframe.shape[0]}\")\n",
    "    print(f\"Variables :{dataframe.shape[1]}\")\n",
    "    print(f\"cat_cols: {len(cat_cols)}\")\n",
    "    print(f\"num_cols: {len(num_cols)}\")\n",
    "    print(f\"cat_but_car: {len(cat_but_car)}\")\n",
    "    print(f\"num_but_cat: {len(num_but_cat)}\")\n",
    "\n",
    "    return cat_cols, num_cols, cat_but_car\n",
    "\n"
   ]
  },
  {
   "cell_type": "code",
   "execution_count": 157,
   "metadata": {},
   "outputs": [
    {
     "name": "stdout",
     "output_type": "stream",
     "text": [
      "Observations : 358351\n",
      "Variables :9\n",
      "cat_cols: 2\n",
      "num_cols: 7\n",
      "cat_but_car: 0\n",
      "num_but_cat: 0\n"
     ]
    }
   ],
   "source": [
    "cat_cols, num_cols, cat_but_car = grab_col_names(df)"
   ]
  },
  {
   "attachments": {},
   "cell_type": "markdown",
   "metadata": {},
   "source": [
    "At sea, every vessel propagates the info regularly.\n",
    "Lets see out of 358351 observations how many vessel numbers we have. "
   ]
  },
  {
   "cell_type": "code",
   "execution_count": 158,
   "metadata": {},
   "outputs": [
    {
     "data": {
      "text/plain": [
       "(3894, 8)"
      ]
     },
     "execution_count": 158,
     "metadata": {},
     "output_type": "execute_result"
    }
   ],
   "source": [
    "df.groupby('mmsi').count().shape"
   ]
  },
  {
   "cell_type": "code",
   "execution_count": 159,
   "metadata": {},
   "outputs": [
    {
     "data": {
      "text/plain": [
       "219945000    1961\n",
       "266343000    1773\n",
       "266331000    1765\n",
       "265859000    1532\n",
       "209536000    1478\n",
       "             ... \n",
       "219019917       1\n",
       "219018499       1\n",
       "259075000       1\n",
       "219022542       1\n",
       "219024472       1\n",
       "Name: mmsi, Length: 3894, dtype: int64"
      ]
     },
     "execution_count": 159,
     "metadata": {},
     "output_type": "execute_result"
    }
   ],
   "source": [
    "df['mmsi'].value_counts()"
   ]
  },
  {
   "cell_type": "code",
   "execution_count": 160,
   "metadata": {},
   "outputs": [
    {
     "data": {
      "text/plain": [
       "Under way using engine                                   307581\n",
       "Unknown value                                             17259\n",
       "Constrained by her draught                                12287\n",
       "Engaged in fishing                                        10798\n",
       "Moored                                                     4121\n",
       "Reserved for future amendment [HSC]                        1872\n",
       "Restricted maneuverability                                 1868\n",
       "Under way sailing                                          1396\n",
       "At anchor                                                   513\n",
       "Power-driven vessel towing astern                           377\n",
       "Power-driven vessel pushing ahead or towing alongside       236\n",
       "Not under command                                            31\n",
       "Reserved for future amendment [WIG]                          12\n",
       "Name: navigationalstatus, dtype: int64"
      ]
     },
     "execution_count": 160,
     "metadata": {},
     "output_type": "execute_result"
    }
   ],
   "source": [
    "df['navigationalstatus'].value_counts()"
   ]
  },
  {
   "cell_type": "code",
   "execution_count": 161,
   "metadata": {},
   "outputs": [
    {
     "name": "stdout",
     "output_type": "stream",
     "text": [
      "         n_miss  ratio\n",
      "sog         458 0.0013\n",
      "cog        3169 0.0088\n",
      "heading   20614 0.0575\n",
      "width      3711 0.0104\n",
      "length     3743 0.0104\n",
      "draught   25543 0.0713\n"
     ]
    }
   ],
   "source": [
    "# lets see the number of missing values in the dataset\n",
    "\n",
    "def missing_values_table(data):\n",
    "    m = data.isnull().sum()\n",
    "    print(pd.DataFrame({'n_miss' : m[m!=0], 'ratio' : m[m!=0]/len(data)}))\n",
    "\n",
    "missing_values_table(df)"
   ]
  },
  {
   "attachments": {},
   "cell_type": "markdown",
   "metadata": {},
   "source": [
    "As, we can see the draught and heading column has the most no. of missing values "
   ]
  },
  {
   "cell_type": "code",
   "execution_count": 162,
   "metadata": {},
   "outputs": [
    {
     "data": {
      "image/png": "[encoded data removed]",
      "text/plain": [
       "<Figure size 432x288 with 1 Axes>"
      ]
     },
     "metadata": {
      "needs_background": "light"
     },
     "output_type": "display_data"
    },
    {
     "name": "stdout",
     "output_type": "stream",
     "text": [
      "\n",
      " Number of outliers for mmsi : 24\n"
     ]
    },
    {
     "data": {
      "image/png": "[encoded data removed]",
      "text/plain": [
       "<Figure size 432x288 with 1 Axes>"
      ]
     },
     "metadata": {
      "needs_background": "light"
     },
     "output_type": "display_data"
    },
    {
     "name": "stdout",
     "output_type": "stream",
     "text": [
      "\n",
      " Number of outliers for sog : 2910\n"
     ]
    },
    {
     "data": {
      "image/png": "[encoded data removed]",
      "text/plain": [
       "<Figure size 432x288 with 1 Axes>"
      ]
     },
     "metadata": {
      "needs_background": "light"
     },
     "output_type": "display_data"
    },
    {
     "data": {
      "image/png": "[encoded data removed]",
      "text/plain": [
       "<Figure size 432x288 with 1 Axes>"
      ]
     },
     "metadata": {
      "needs_background": "light"
     },
     "output_type": "display_data"
    },
    {
     "data": {
      "image/png": "[encoded data removed]",
      "text/plain": [
       "<Figure size 432x288 with 1 Axes>"
      ]
     },
     "metadata": {
      "needs_background": "light"
     },
     "output_type": "display_data"
    },
    {
     "name": "stdout",
     "output_type": "stream",
     "text": [
      "\n",
      " Number of outliers for width : 9\n"
     ]
    },
    {
     "data": {
      "image/png": "[encoded data removed]",
      "text/plain": [
       "<Figure size 432x288 with 1 Axes>"
      ]
     },
     "metadata": {
      "needs_background": "light"
     },
     "output_type": "display_data"
    },
    {
     "name": "stdout",
     "output_type": "stream",
     "text": [
      "\n",
      " Number of outliers for length : 47\n"
     ]
    },
    {
     "data": {
      "image/png": "[encoded data removed]",
      "text/plain": [
       "<Figure size 432x288 with 1 Axes>"
      ]
     },
     "metadata": {
      "needs_background": "light"
     },
     "output_type": "display_data"
    },
    {
     "name": "stdout",
     "output_type": "stream",
     "text": [
      "\n",
      " Number of outliers for draught : 567\n"
     ]
    }
   ],
   "source": [
    "def thresholds(col, data, d, u):\n",
    "    q3 = data[col].quantile(u)\n",
    "    q1 = data[col].quantile(d)\n",
    "    down = q1-(q3-q1)*1.5\n",
    "    up = q1+(q3-q1)*1.5\n",
    "    return down, up \n",
    "\n",
    "def check_outliers(col, data, d=0.25, u = 0.75, plot = True):\n",
    "    down, up = thresholds(col,data,d,u)\n",
    "    ind = data[(data[col] < down) | (data[col] > up )].index\n",
    "    if plot:\n",
    "        sns.boxplot(x=col, data = data)\n",
    "        plt.show()\n",
    "    if len(ind)!=0:\n",
    "        print(f\"\\n Number of outliers for {col} : {len(ind)}\")\n",
    "        return col\n",
    "    \n",
    "for col in num_cols:\n",
    "    check_outliers(col, df, 0.01, 0.99)\n",
    "\n"
   ]
  },
  {
   "cell_type": "code",
   "execution_count": 163,
   "metadata": {},
   "outputs": [
    {
     "name": "stdout",
     "output_type": "stream",
     "text": [
      "heading  cog     0.9617\n",
      "length   width   0.9564\n",
      "dtype: float64\n"
     ]
    },
    {
     "data": {
      "text/plain": [
       "[('heading', 'cog'), ('length', 'width')]"
      ]
     },
     "execution_count": 163,
     "metadata": {},
     "output_type": "execute_result"
    },
    {
     "data": {
      "image/png": "[encoded data removed]",
      "text/plain": [
       "<Figure size 432x288 with 2 Axes>"
      ]
     },
     "metadata": {
      "needs_background": "light"
     },
     "output_type": "display_data"
    }
   ],
   "source": [
    "#Correlations between variables \n",
    "\n",
    "def corr_analyzer(data, corr_th=0.7, plot = False):\n",
    "    corr_matrix = pd.DataFrame(np.tril(data.corr(), k=-1), columns=data.corr().columns, index= data.corr().columns)\n",
    "    corr = corr_matrix[corr_matrix > corr_th].stack()\n",
    "    print(corr)\n",
    "\n",
    "    if plot:\n",
    "        sns.heatmap(corr_matrix, cmap='Blues')\n",
    "    return corr[corr>corr_th].index.to_list()\n",
    "\n",
    "corr_analyzer(df, corr_th=0.75, plot=True)"
   ]
  },
  {
   "attachments": {},
   "cell_type": "markdown",
   "metadata": {},
   "source": [
    "Actually ‘cog’ and ‘heading’ variables are very similar. Also, there is a high correlation between them. So we can combine these two as one."
   ]
  },
  {
   "cell_type": "code",
   "execution_count": 164,
   "metadata": {},
   "outputs": [
    {
     "data": {
      "text/html": [
       "<div>\n",
       "<style scoped>\n",
       "    .dataframe tbody tr th:only-of-type {\n",
       "        vertical-align: middle;\n",
       "    }\n",
       "\n",
       "    .dataframe tbody tr th {\n",
       "        vertical-align: top;\n",
       "    }\n",
       "\n",
       "    .dataframe thead th {\n",
       "        text-align: right;\n",
       "    }\n",
       "</style>\n",
       "<table border=\"1\" class=\"dataframe\">\n",
       "  <thead>\n",
       "    <tr style=\"text-align: right;\">\n",
       "      <th></th>\n",
       "      <th>mmsi</th>\n",
       "      <th>navigationalstatus</th>\n",
       "      <th>sog</th>\n",
       "      <th>cog</th>\n",
       "      <th>heading</th>\n",
       "      <th>shiptype</th>\n",
       "      <th>width</th>\n",
       "      <th>length</th>\n",
       "      <th>draught</th>\n",
       "      <th>route</th>\n",
       "      <th>waypoint</th>\n",
       "    </tr>\n",
       "  </thead>\n",
       "  <tbody>\n",
       "    <tr>\n",
       "      <th>0</th>\n",
       "      <td>219019621</td>\n",
       "      <td>Unknown value</td>\n",
       "      <td>0.0000</td>\n",
       "      <td>86.0000</td>\n",
       "      <td>86.0000</td>\n",
       "      <td>Fishing</td>\n",
       "      <td>4.0000</td>\n",
       "      <td>9.0000</td>\n",
       "      <td>NaN</td>\n",
       "      <td>86.0000</td>\n",
       "      <td>ENE</td>\n",
       "    </tr>\n",
       "    <tr>\n",
       "      <th>1</th>\n",
       "      <td>265628170</td>\n",
       "      <td>Unknown value</td>\n",
       "      <td>0.0000</td>\n",
       "      <td>334.5000</td>\n",
       "      <td>NaN</td>\n",
       "      <td>Port tender</td>\n",
       "      <td>8.0000</td>\n",
       "      <td>27.0000</td>\n",
       "      <td>NaN</td>\n",
       "      <td>334.5000</td>\n",
       "      <td>NNW</td>\n",
       "    </tr>\n",
       "    <tr>\n",
       "      <th>2</th>\n",
       "      <td>219005719</td>\n",
       "      <td>Unknown value</td>\n",
       "      <td>0.0000</td>\n",
       "      <td>208.7000</td>\n",
       "      <td>NaN</td>\n",
       "      <td>Fishing</td>\n",
       "      <td>4.0000</td>\n",
       "      <td>11.0000</td>\n",
       "      <td>NaN</td>\n",
       "      <td>208.7000</td>\n",
       "      <td>SSW</td>\n",
       "    </tr>\n",
       "    <tr>\n",
       "      <th>3</th>\n",
       "      <td>219028066</td>\n",
       "      <td>Unknown value</td>\n",
       "      <td>0.0000</td>\n",
       "      <td>NaN</td>\n",
       "      <td>NaN</td>\n",
       "      <td>Pleasure</td>\n",
       "      <td>3.0000</td>\n",
       "      <td>12.0000</td>\n",
       "      <td>NaN</td>\n",
       "      <td>NaN</td>\n",
       "      <td>FIX</td>\n",
       "    </tr>\n",
       "    <tr>\n",
       "      <th>4</th>\n",
       "      <td>212584000</td>\n",
       "      <td>Moored</td>\n",
       "      <td>0.0000</td>\n",
       "      <td>153.0000</td>\n",
       "      <td>106.0000</td>\n",
       "      <td>Cargo</td>\n",
       "      <td>13.0000</td>\n",
       "      <td>99.0000</td>\n",
       "      <td>6.3000</td>\n",
       "      <td>153.0000</td>\n",
       "      <td>SSE</td>\n",
       "    </tr>\n",
       "  </tbody>\n",
       "</table>\n",
       "</div>"
      ],
      "text/plain": [
       "        mmsi navigationalstatus    sog      cog  heading     shiptype   width  length  draught    route waypoint\n",
       "0  219019621      Unknown value 0.0000  86.0000  86.0000      Fishing  4.0000  9.0000      NaN  86.0000      ENE\n",
       "1  265628170      Unknown value 0.0000 334.5000      NaN  Port tender  8.0000 27.0000      NaN 334.5000      NNW\n",
       "2  219005719      Unknown value 0.0000 208.7000      NaN      Fishing  4.0000 11.0000      NaN 208.7000      SSW\n",
       "3  219028066      Unknown value 0.0000      NaN      NaN     Pleasure  3.0000 12.0000      NaN      NaN      FIX\n",
       "4  212584000             Moored 0.0000 153.0000 106.0000        Cargo 13.0000 99.0000   6.3000 153.0000      SSE"
      ]
     },
     "execution_count": 164,
     "metadata": {},
     "output_type": "execute_result"
    }
   ],
   "source": [
    "# First, the filling was made according to those in the 'heading' but not in the 'cog'. So we have fewer missings at 'cog'\n",
    "\n",
    "df['route'] = np.where(df['cog'].isnull(), df['heading'], df['cog']) \n",
    "\n",
    "# Secondly, we divided the 360-degree route into 8 regions.\n",
    "rot= [-1, 45, 90, 135, 180, 225, 270, 315, 360]\n",
    "df['waypoint'] = pd.cut(df['route'], rot, labels=['NNE','ENE','ESE','SSE','SSW','WSW','WNW','NNW'])\n",
    "\n",
    "# Finally, the ships with less than 5.5kts speed and no route information were tagged as 'FIX'.\n",
    "df['waypoint'] = np.where((df['sog']<5.5) & (df['waypoint'].isnull()), 'FIX', df['waypoint'])\n",
    "df.head()"
   ]
  },
  {
   "attachments": {},
   "cell_type": "markdown",
   "metadata": {},
   "source": [
    "Vessels’ speed depends on ship type mostly. We fill the missings according to 'sog' and 'route' variables. Then assigned as a new variable"
   ]
  },
  {
   "cell_type": "code",
   "execution_count": 165,
   "metadata": {},
   "outputs": [
    {
     "data": {
      "text/html": [
       "<div>\n",
       "<style scoped>\n",
       "    .dataframe tbody tr th:only-of-type {\n",
       "        vertical-align: middle;\n",
       "    }\n",
       "\n",
       "    .dataframe tbody tr th {\n",
       "        vertical-align: top;\n",
       "    }\n",
       "\n",
       "    .dataframe thead th {\n",
       "        text-align: right;\n",
       "    }\n",
       "</style>\n",
       "<table border=\"1\" class=\"dataframe\">\n",
       "  <thead>\n",
       "    <tr style=\"text-align: right;\">\n",
       "      <th></th>\n",
       "      <th>mmsi</th>\n",
       "      <th>navigationalstatus</th>\n",
       "      <th>sog</th>\n",
       "      <th>cog</th>\n",
       "      <th>heading</th>\n",
       "      <th>shiptype</th>\n",
       "      <th>width</th>\n",
       "      <th>length</th>\n",
       "      <th>draught</th>\n",
       "      <th>route</th>\n",
       "      <th>waypoint</th>\n",
       "      <th>speed</th>\n",
       "    </tr>\n",
       "  </thead>\n",
       "  <tbody>\n",
       "    <tr>\n",
       "      <th>0</th>\n",
       "      <td>219019621</td>\n",
       "      <td>Unknown value</td>\n",
       "      <td>0.0000</td>\n",
       "      <td>86.0000</td>\n",
       "      <td>86.0000</td>\n",
       "      <td>Fishing</td>\n",
       "      <td>4.0000</td>\n",
       "      <td>9.0000</td>\n",
       "      <td>NaN</td>\n",
       "      <td>86.0000</td>\n",
       "      <td>ENE</td>\n",
       "      <td>0.0000</td>\n",
       "    </tr>\n",
       "    <tr>\n",
       "      <th>1</th>\n",
       "      <td>265628170</td>\n",
       "      <td>Unknown value</td>\n",
       "      <td>0.0000</td>\n",
       "      <td>334.5000</td>\n",
       "      <td>NaN</td>\n",
       "      <td>Port tender</td>\n",
       "      <td>8.0000</td>\n",
       "      <td>27.0000</td>\n",
       "      <td>NaN</td>\n",
       "      <td>334.5000</td>\n",
       "      <td>NNW</td>\n",
       "      <td>0.0000</td>\n",
       "    </tr>\n",
       "    <tr>\n",
       "      <th>2</th>\n",
       "      <td>219005719</td>\n",
       "      <td>Unknown value</td>\n",
       "      <td>0.0000</td>\n",
       "      <td>208.7000</td>\n",
       "      <td>NaN</td>\n",
       "      <td>Fishing</td>\n",
       "      <td>4.0000</td>\n",
       "      <td>11.0000</td>\n",
       "      <td>NaN</td>\n",
       "      <td>208.7000</td>\n",
       "      <td>SSW</td>\n",
       "      <td>0.0000</td>\n",
       "    </tr>\n",
       "    <tr>\n",
       "      <th>3</th>\n",
       "      <td>219028066</td>\n",
       "      <td>Unknown value</td>\n",
       "      <td>0.0000</td>\n",
       "      <td>NaN</td>\n",
       "      <td>NaN</td>\n",
       "      <td>Pleasure</td>\n",
       "      <td>3.0000</td>\n",
       "      <td>12.0000</td>\n",
       "      <td>NaN</td>\n",
       "      <td>NaN</td>\n",
       "      <td>FIX</td>\n",
       "      <td>0.0000</td>\n",
       "    </tr>\n",
       "    <tr>\n",
       "      <th>4</th>\n",
       "      <td>212584000</td>\n",
       "      <td>Moored</td>\n",
       "      <td>0.0000</td>\n",
       "      <td>153.0000</td>\n",
       "      <td>106.0000</td>\n",
       "      <td>Cargo</td>\n",
       "      <td>13.0000</td>\n",
       "      <td>99.0000</td>\n",
       "      <td>6.3000</td>\n",
       "      <td>153.0000</td>\n",
       "      <td>SSE</td>\n",
       "      <td>0.0000</td>\n",
       "    </tr>\n",
       "  </tbody>\n",
       "</table>\n",
       "</div>"
      ],
      "text/plain": [
       "        mmsi navigationalstatus    sog      cog  heading     shiptype   width  length  draught    route waypoint  speed\n",
       "0  219019621      Unknown value 0.0000  86.0000  86.0000      Fishing  4.0000  9.0000      NaN  86.0000      ENE 0.0000\n",
       "1  265628170      Unknown value 0.0000 334.5000      NaN  Port tender  8.0000 27.0000      NaN 334.5000      NNW 0.0000\n",
       "2  219005719      Unknown value 0.0000 208.7000      NaN      Fishing  4.0000 11.0000      NaN 208.7000      SSW 0.0000\n",
       "3  219028066      Unknown value 0.0000      NaN      NaN     Pleasure  3.0000 12.0000      NaN      NaN      FIX 0.0000\n",
       "4  212584000             Moored 0.0000 153.0000 106.0000        Cargo 13.0000 99.0000   6.3000 153.0000      SSE 0.0000"
      ]
     },
     "execution_count": 165,
     "metadata": {},
     "output_type": "execute_result"
    }
   ],
   "source": [
    "df['speed'] = df[\"sog\"].fillna(df.groupby(['shiptype', 'waypoint'])['sog'].transform('mean'))\n",
    "df.head()"
   ]
  },
  {
   "attachments": {},
   "cell_type": "markdown",
   "metadata": {},
   "source": [
    "New aspect for the dimensions;"
   ]
  },
  {
   "cell_type": "code",
   "execution_count": 166,
   "metadata": {},
   "outputs": [
    {
     "data": {
      "text/html": [
       "<div>\n",
       "<style scoped>\n",
       "    .dataframe tbody tr th:only-of-type {\n",
       "        vertical-align: middle;\n",
       "    }\n",
       "\n",
       "    .dataframe tbody tr th {\n",
       "        vertical-align: top;\n",
       "    }\n",
       "\n",
       "    .dataframe thead th {\n",
       "        text-align: right;\n",
       "    }\n",
       "</style>\n",
       "<table border=\"1\" class=\"dataframe\">\n",
       "  <thead>\n",
       "    <tr style=\"text-align: right;\">\n",
       "      <th></th>\n",
       "      <th>mmsi</th>\n",
       "      <th>navigationalstatus</th>\n",
       "      <th>sog</th>\n",
       "      <th>cog</th>\n",
       "      <th>heading</th>\n",
       "      <th>shiptype</th>\n",
       "      <th>width</th>\n",
       "      <th>length</th>\n",
       "      <th>draught</th>\n",
       "      <th>route</th>\n",
       "      <th>waypoint</th>\n",
       "      <th>speed</th>\n",
       "      <th>dimension</th>\n",
       "    </tr>\n",
       "  </thead>\n",
       "  <tbody>\n",
       "    <tr>\n",
       "      <th>0</th>\n",
       "      <td>219019621</td>\n",
       "      <td>Unknown value</td>\n",
       "      <td>0.0000</td>\n",
       "      <td>86.0000</td>\n",
       "      <td>86.0000</td>\n",
       "      <td>Fishing</td>\n",
       "      <td>4.0000</td>\n",
       "      <td>9.0000</td>\n",
       "      <td>NaN</td>\n",
       "      <td>86.0000</td>\n",
       "      <td>ENE</td>\n",
       "      <td>0.0000</td>\n",
       "      <td>36.0000</td>\n",
       "    </tr>\n",
       "    <tr>\n",
       "      <th>1</th>\n",
       "      <td>265628170</td>\n",
       "      <td>Unknown value</td>\n",
       "      <td>0.0000</td>\n",
       "      <td>334.5000</td>\n",
       "      <td>NaN</td>\n",
       "      <td>Port tender</td>\n",
       "      <td>8.0000</td>\n",
       "      <td>27.0000</td>\n",
       "      <td>NaN</td>\n",
       "      <td>334.5000</td>\n",
       "      <td>NNW</td>\n",
       "      <td>0.0000</td>\n",
       "      <td>216.0000</td>\n",
       "    </tr>\n",
       "    <tr>\n",
       "      <th>2</th>\n",
       "      <td>219005719</td>\n",
       "      <td>Unknown value</td>\n",
       "      <td>0.0000</td>\n",
       "      <td>208.7000</td>\n",
       "      <td>NaN</td>\n",
       "      <td>Fishing</td>\n",
       "      <td>4.0000</td>\n",
       "      <td>11.0000</td>\n",
       "      <td>NaN</td>\n",
       "      <td>208.7000</td>\n",
       "      <td>SSW</td>\n",
       "      <td>0.0000</td>\n",
       "      <td>44.0000</td>\n",
       "    </tr>\n",
       "    <tr>\n",
       "      <th>3</th>\n",
       "      <td>219028066</td>\n",
       "      <td>Unknown value</td>\n",
       "      <td>0.0000</td>\n",
       "      <td>NaN</td>\n",
       "      <td>NaN</td>\n",
       "      <td>Pleasure</td>\n",
       "      <td>3.0000</td>\n",
       "      <td>12.0000</td>\n",
       "      <td>NaN</td>\n",
       "      <td>NaN</td>\n",
       "      <td>FIX</td>\n",
       "      <td>0.0000</td>\n",
       "      <td>36.0000</td>\n",
       "    </tr>\n",
       "    <tr>\n",
       "      <th>4</th>\n",
       "      <td>212584000</td>\n",
       "      <td>Moored</td>\n",
       "      <td>0.0000</td>\n",
       "      <td>153.0000</td>\n",
       "      <td>106.0000</td>\n",
       "      <td>Cargo</td>\n",
       "      <td>13.0000</td>\n",
       "      <td>99.0000</td>\n",
       "      <td>6.3000</td>\n",
       "      <td>153.0000</td>\n",
       "      <td>SSE</td>\n",
       "      <td>0.0000</td>\n",
       "      <td>1287.0000</td>\n",
       "    </tr>\n",
       "  </tbody>\n",
       "</table>\n",
       "</div>"
      ],
      "text/plain": [
       "        mmsi navigationalstatus    sog      cog  heading     shiptype   width  length  draught    route waypoint  speed  dimension\n",
       "0  219019621      Unknown value 0.0000  86.0000  86.0000      Fishing  4.0000  9.0000      NaN  86.0000      ENE 0.0000    36.0000\n",
       "1  265628170      Unknown value 0.0000 334.5000      NaN  Port tender  8.0000 27.0000      NaN 334.5000      NNW 0.0000   216.0000\n",
       "2  219005719      Unknown value 0.0000 208.7000      NaN      Fishing  4.0000 11.0000      NaN 208.7000      SSW 0.0000    44.0000\n",
       "3  219028066      Unknown value 0.0000      NaN      NaN     Pleasure  3.0000 12.0000      NaN      NaN      FIX 0.0000    36.0000\n",
       "4  212584000             Moored 0.0000 153.0000 106.0000        Cargo 13.0000 99.0000   6.3000 153.0000      SSE 0.0000  1287.0000"
      ]
     },
     "execution_count": 166,
     "metadata": {},
     "output_type": "execute_result"
    }
   ],
   "source": [
    "df['dimension'] = df['width'] * df['length']\n",
    "df.head()"
   ]
  },
  {
   "attachments": {},
   "cell_type": "markdown",
   "metadata": {},
   "source": [
    "After dropping the duplicates we have a total of 3894 ships. Let’s have a look at the final form of output."
   ]
  },
  {
   "cell_type": "code",
   "execution_count": 167,
   "metadata": {},
   "outputs": [
    {
     "data": {
      "text/plain": [
       "shiptype\n",
       "Cargo               1716\n",
       "Dredging              53\n",
       "Fishing              325\n",
       "HSC                   27\n",
       "Law enforcement       20\n",
       "Military              79\n",
       "Passenger            123\n",
       "Pilot                 41\n",
       "Pleasure             414\n",
       "Port tender           12\n",
       "Reserved              12\n",
       "SAR                  123\n",
       "Sailing              215\n",
       "Tanker               642\n",
       "Towing                11\n",
       "Towing long/wide       3\n",
       "Tug                   78\n",
       "Name: mmsi, dtype: int64"
      ]
     },
     "execution_count": 167,
     "metadata": {},
     "output_type": "execute_result"
    }
   ],
   "source": [
    "df = df.drop_duplicates(subset='mmsi') # one vessel has more than one data\n",
    "df.groupby(['shiptype'])['mmsi'].count()"
   ]
  },
  {
   "cell_type": "code",
   "execution_count": 168,
   "metadata": {},
   "outputs": [],
   "source": [
    "# no need anymore\n",
    "df.drop(['cog', 'heading', 'route', 'sog', 'mmsi'], axis=1, inplace=True) "
   ]
  },
  {
   "cell_type": "code",
   "execution_count": 169,
   "metadata": {},
   "outputs": [
    {
     "data": {
      "text/html": [
       "<div>\n",
       "<style scoped>\n",
       "    .dataframe tbody tr th:only-of-type {\n",
       "        vertical-align: middle;\n",
       "    }\n",
       "\n",
       "    .dataframe tbody tr th {\n",
       "        vertical-align: top;\n",
       "    }\n",
       "\n",
       "    .dataframe thead th {\n",
       "        text-align: right;\n",
       "    }\n",
       "</style>\n",
       "<table border=\"1\" class=\"dataframe\">\n",
       "  <thead>\n",
       "    <tr style=\"text-align: right;\">\n",
       "      <th></th>\n",
       "      <th>navigationalstatus</th>\n",
       "      <th>shiptype</th>\n",
       "      <th>width</th>\n",
       "      <th>length</th>\n",
       "      <th>draught</th>\n",
       "      <th>waypoint</th>\n",
       "      <th>speed</th>\n",
       "      <th>dimension</th>\n",
       "    </tr>\n",
       "  </thead>\n",
       "  <tbody>\n",
       "    <tr>\n",
       "      <th>0</th>\n",
       "      <td>Unknown value</td>\n",
       "      <td>Fishing</td>\n",
       "      <td>4.0000</td>\n",
       "      <td>9.0000</td>\n",
       "      <td>NaN</td>\n",
       "      <td>ENE</td>\n",
       "      <td>0.0000</td>\n",
       "      <td>36.0000</td>\n",
       "    </tr>\n",
       "    <tr>\n",
       "      <th>1</th>\n",
       "      <td>Unknown value</td>\n",
       "      <td>Port tender</td>\n",
       "      <td>8.0000</td>\n",
       "      <td>27.0000</td>\n",
       "      <td>NaN</td>\n",
       "      <td>NNW</td>\n",
       "      <td>0.0000</td>\n",
       "      <td>216.0000</td>\n",
       "    </tr>\n",
       "    <tr>\n",
       "      <th>2</th>\n",
       "      <td>Unknown value</td>\n",
       "      <td>Fishing</td>\n",
       "      <td>4.0000</td>\n",
       "      <td>11.0000</td>\n",
       "      <td>NaN</td>\n",
       "      <td>SSW</td>\n",
       "      <td>0.0000</td>\n",
       "      <td>44.0000</td>\n",
       "    </tr>\n",
       "    <tr>\n",
       "      <th>3</th>\n",
       "      <td>Unknown value</td>\n",
       "      <td>Pleasure</td>\n",
       "      <td>3.0000</td>\n",
       "      <td>12.0000</td>\n",
       "      <td>NaN</td>\n",
       "      <td>FIX</td>\n",
       "      <td>0.0000</td>\n",
       "      <td>36.0000</td>\n",
       "    </tr>\n",
       "    <tr>\n",
       "      <th>4</th>\n",
       "      <td>Moored</td>\n",
       "      <td>Cargo</td>\n",
       "      <td>13.0000</td>\n",
       "      <td>99.0000</td>\n",
       "      <td>6.3000</td>\n",
       "      <td>SSE</td>\n",
       "      <td>0.0000</td>\n",
       "      <td>1287.0000</td>\n",
       "    </tr>\n",
       "  </tbody>\n",
       "</table>\n",
       "</div>"
      ],
      "text/plain": [
       "  navigationalstatus     shiptype   width  length  draught waypoint  speed  dimension\n",
       "0      Unknown value      Fishing  4.0000  9.0000      NaN      ENE 0.0000    36.0000\n",
       "1      Unknown value  Port tender  8.0000 27.0000      NaN      NNW 0.0000   216.0000\n",
       "2      Unknown value      Fishing  4.0000 11.0000      NaN      SSW 0.0000    44.0000\n",
       "3      Unknown value     Pleasure  3.0000 12.0000      NaN      FIX 0.0000    36.0000\n",
       "4             Moored        Cargo 13.0000 99.0000   6.3000      SSE 0.0000  1287.0000"
      ]
     },
     "execution_count": 169,
     "metadata": {},
     "output_type": "execute_result"
    }
   ],
   "source": [
    "df.head()"
   ]
  },
  {
   "attachments": {},
   "cell_type": "markdown",
   "metadata": {},
   "source": [
    "### Encoding"
   ]
  },
  {
   "cell_type": "code",
   "execution_count": 170,
   "metadata": {},
   "outputs": [
    {
     "name": "stdout",
     "output_type": "stream",
     "text": [
      "Observations : 3894\n",
      "Variables :8\n",
      "cat_cols: 3\n",
      "num_cols: 5\n",
      "cat_but_car: 0\n",
      "num_but_cat: 0\n"
     ]
    }
   ],
   "source": [
    "# taking account for the new variables\n",
    "cat_cols, num_cols, cat_but_car = grab_col_names(df) "
   ]
  },
  {
   "cell_type": "code",
   "execution_count": 171,
   "metadata": {},
   "outputs": [
    {
     "name": "stdout",
     "output_type": "stream",
     "text": [
      "                                                    navigationalstatus   Ratio\n",
      "Under way using engine                                            2587 66.4355\n",
      "Unknown value                                                      926 23.7802\n",
      "Moored                                                             130  3.3385\n",
      "Engaged in fishing                                                 100  2.5681\n",
      "Constrained by her draught                                          81  2.0801\n",
      "Restricted maneuverability                                          21  0.5393\n",
      "At anchor                                                           20  0.5136\n",
      "Under way sailing                                                   17  0.4366\n",
      "Reserved for future amendment [HSC]                                  5  0.1284\n",
      "Not under command                                                    3  0.0770\n",
      "Power-driven vessel towing astern                                    2  0.0514\n",
      "Reserved for future amendment [WIG]                                  1  0.0257\n",
      "Power-driven vessel pushing ahead or towing alo...                   1  0.0257\n",
      " \n",
      " _____________________________________________________ \n",
      " \n",
      "                  shiptype   Ratio\n",
      "Cargo                 1716 44.0678\n",
      "Tanker                 642 16.4869\n",
      "Pleasure               414 10.6317\n",
      "Fishing                325  8.3462\n",
      "Sailing                215  5.5213\n",
      "SAR                    123  3.1587\n",
      "Passenger              123  3.1587\n",
      "Military                79  2.0288\n",
      "Tug                     78  2.0031\n",
      "Dredging                53  1.3611\n",
      "Pilot                   41  1.0529\n",
      "HSC                     27  0.6934\n",
      "Law enforcement         20  0.5136\n",
      "Reserved                12  0.3082\n",
      "Port tender             12  0.3082\n",
      "Towing                  11  0.2825\n",
      "Towing long/wide         3  0.0770\n",
      " \n",
      " _____________________________________________________ \n",
      " \n",
      "     waypoint   Ratio\n",
      "SSE       688 17.6682\n",
      "NNW       659 16.9235\n",
      "ESE       616 15.8192\n",
      "NNE       612 15.7165\n",
      "ENE       485 12.4551\n",
      "SSW       307  7.8839\n",
      "FIX       243  6.2404\n",
      "WSW       166  4.2630\n",
      "WNW       115  2.9533\n",
      " \n",
      " _____________________________________________________ \n",
      " \n"
     ]
    }
   ],
   "source": [
    "def cat_summary(dataframe, col_name, plot = False):\n",
    "    print(pd.DataFrame({col_name: dataframe[col_name].value_counts(), \"Ratio\" : 100*dataframe[col_name].value_counts() / len(dataframe)}))\n",
    "\n",
    "    print(\" \")\n",
    "    print(\" _____________________________________________________ \")\n",
    "    print(\" \")\n",
    "\n",
    "    if plot:\n",
    "        sns.countplot(x=dataframe[col_name], data = dataframe)\n",
    "        plt.show()\n",
    "\n",
    "for col in cat_cols:\n",
    "    cat_summary(df,col)\n"
   ]
  },
  {
   "attachments": {},
   "cell_type": "markdown",
   "metadata": {},
   "source": [
    "In our Dataset, there are rare values in categorical variables. We group these classes if they are lower than 2%."
   ]
  },
  {
   "cell_type": "code",
   "execution_count": 172,
   "metadata": {},
   "outputs": [],
   "source": [
    "def rare_encoder(dataframe, rare_perc):\n",
    "    temp_df = dataframe.copy()\n",
    "    rare_columns = [col for col in temp_df.columns if temp_df[col].dtypes == 'O' and (temp_df[col].value_counts() / len(temp_df) < rare_perc).any(axis = None)]\n",
    "\n",
    "    for var in rare_columns:\n",
    "        tmp = temp_df[var].value_counts() / len(temp_df)\n",
    "        rare_labels = tmp[tmp < rare_perc].index\n",
    "        temp_df[var] = np.where(temp_df[var].isin(rare_labels), 'Rare', temp_df[var])\n",
    "    \n",
    "    return temp_df\n",
    "\n",
    "df = rare_encoder(df, 0.02)\n"
   ]
  },
  {
   "cell_type": "code",
   "execution_count": 173,
   "metadata": {},
   "outputs": [
    {
     "data": {
      "text/html": [
       "<div>\n",
       "<style scoped>\n",
       "    .dataframe tbody tr th:only-of-type {\n",
       "        vertical-align: middle;\n",
       "    }\n",
       "\n",
       "    .dataframe tbody tr th {\n",
       "        vertical-align: top;\n",
       "    }\n",
       "\n",
       "    .dataframe thead th {\n",
       "        text-align: right;\n",
       "    }\n",
       "</style>\n",
       "<table border=\"1\" class=\"dataframe\">\n",
       "  <thead>\n",
       "    <tr style=\"text-align: right;\">\n",
       "      <th></th>\n",
       "      <th>navigationalstatus</th>\n",
       "      <th>shiptype</th>\n",
       "      <th>width</th>\n",
       "      <th>length</th>\n",
       "      <th>draught</th>\n",
       "      <th>waypoint</th>\n",
       "      <th>speed</th>\n",
       "      <th>dimension</th>\n",
       "    </tr>\n",
       "  </thead>\n",
       "  <tbody>\n",
       "    <tr>\n",
       "      <th>0</th>\n",
       "      <td>Unknown value</td>\n",
       "      <td>Fishing</td>\n",
       "      <td>4.0000</td>\n",
       "      <td>9.0000</td>\n",
       "      <td>NaN</td>\n",
       "      <td>ENE</td>\n",
       "      <td>0.0000</td>\n",
       "      <td>36.0000</td>\n",
       "    </tr>\n",
       "    <tr>\n",
       "      <th>1</th>\n",
       "      <td>Unknown value</td>\n",
       "      <td>Rare</td>\n",
       "      <td>8.0000</td>\n",
       "      <td>27.0000</td>\n",
       "      <td>NaN</td>\n",
       "      <td>NNW</td>\n",
       "      <td>0.0000</td>\n",
       "      <td>216.0000</td>\n",
       "    </tr>\n",
       "    <tr>\n",
       "      <th>2</th>\n",
       "      <td>Unknown value</td>\n",
       "      <td>Fishing</td>\n",
       "      <td>4.0000</td>\n",
       "      <td>11.0000</td>\n",
       "      <td>NaN</td>\n",
       "      <td>SSW</td>\n",
       "      <td>0.0000</td>\n",
       "      <td>44.0000</td>\n",
       "    </tr>\n",
       "    <tr>\n",
       "      <th>3</th>\n",
       "      <td>Unknown value</td>\n",
       "      <td>Pleasure</td>\n",
       "      <td>3.0000</td>\n",
       "      <td>12.0000</td>\n",
       "      <td>NaN</td>\n",
       "      <td>FIX</td>\n",
       "      <td>0.0000</td>\n",
       "      <td>36.0000</td>\n",
       "    </tr>\n",
       "    <tr>\n",
       "      <th>4</th>\n",
       "      <td>Moored</td>\n",
       "      <td>Cargo</td>\n",
       "      <td>13.0000</td>\n",
       "      <td>99.0000</td>\n",
       "      <td>6.3000</td>\n",
       "      <td>SSE</td>\n",
       "      <td>0.0000</td>\n",
       "      <td>1287.0000</td>\n",
       "    </tr>\n",
       "  </tbody>\n",
       "</table>\n",
       "</div>"
      ],
      "text/plain": [
       "  navigationalstatus  shiptype   width  length  draught waypoint  speed  dimension\n",
       "0      Unknown value   Fishing  4.0000  9.0000      NaN      ENE 0.0000    36.0000\n",
       "1      Unknown value      Rare  8.0000 27.0000      NaN      NNW 0.0000   216.0000\n",
       "2      Unknown value   Fishing  4.0000 11.0000      NaN      SSW 0.0000    44.0000\n",
       "3      Unknown value  Pleasure  3.0000 12.0000      NaN      FIX 0.0000    36.0000\n",
       "4             Moored     Cargo 13.0000 99.0000   6.3000      SSE 0.0000  1287.0000"
      ]
     },
     "execution_count": 173,
     "metadata": {},
     "output_type": "execute_result"
    }
   ],
   "source": [
    "df.head()"
   ]
  },
  {
   "cell_type": "code",
   "execution_count": 174,
   "metadata": {},
   "outputs": [],
   "source": [
    "# combining the 'Unknown value' and 'Rare' groups at 'navigationalstatus' variable\n",
    "df['status'] = df['navigationalstatus'].where(\n",
    "    ~((df['navigationalstatus']=='Unknown value') | (df['navigationalstatus']=='Rare')), 'Other') "
   ]
  },
  {
   "cell_type": "code",
   "execution_count": 175,
   "metadata": {},
   "outputs": [
    {
     "data": {
      "text/html": [
       "<div>\n",
       "<style scoped>\n",
       "    .dataframe tbody tr th:only-of-type {\n",
       "        vertical-align: middle;\n",
       "    }\n",
       "\n",
       "    .dataframe tbody tr th {\n",
       "        vertical-align: top;\n",
       "    }\n",
       "\n",
       "    .dataframe thead th {\n",
       "        text-align: right;\n",
       "    }\n",
       "</style>\n",
       "<table border=\"1\" class=\"dataframe\">\n",
       "  <thead>\n",
       "    <tr style=\"text-align: right;\">\n",
       "      <th></th>\n",
       "      <th>navigationalstatus</th>\n",
       "      <th>shiptype</th>\n",
       "      <th>width</th>\n",
       "      <th>length</th>\n",
       "      <th>draught</th>\n",
       "      <th>waypoint</th>\n",
       "      <th>speed</th>\n",
       "      <th>dimension</th>\n",
       "      <th>status</th>\n",
       "    </tr>\n",
       "  </thead>\n",
       "  <tbody>\n",
       "    <tr>\n",
       "      <th>0</th>\n",
       "      <td>Unknown value</td>\n",
       "      <td>Fishing</td>\n",
       "      <td>4.0000</td>\n",
       "      <td>9.0000</td>\n",
       "      <td>NaN</td>\n",
       "      <td>ENE</td>\n",
       "      <td>0.0000</td>\n",
       "      <td>36.0000</td>\n",
       "      <td>Other</td>\n",
       "    </tr>\n",
       "    <tr>\n",
       "      <th>1</th>\n",
       "      <td>Unknown value</td>\n",
       "      <td>Rare</td>\n",
       "      <td>8.0000</td>\n",
       "      <td>27.0000</td>\n",
       "      <td>NaN</td>\n",
       "      <td>NNW</td>\n",
       "      <td>0.0000</td>\n",
       "      <td>216.0000</td>\n",
       "      <td>Other</td>\n",
       "    </tr>\n",
       "    <tr>\n",
       "      <th>2</th>\n",
       "      <td>Unknown value</td>\n",
       "      <td>Fishing</td>\n",
       "      <td>4.0000</td>\n",
       "      <td>11.0000</td>\n",
       "      <td>NaN</td>\n",
       "      <td>SSW</td>\n",
       "      <td>0.0000</td>\n",
       "      <td>44.0000</td>\n",
       "      <td>Other</td>\n",
       "    </tr>\n",
       "    <tr>\n",
       "      <th>3</th>\n",
       "      <td>Unknown value</td>\n",
       "      <td>Pleasure</td>\n",
       "      <td>3.0000</td>\n",
       "      <td>12.0000</td>\n",
       "      <td>NaN</td>\n",
       "      <td>FIX</td>\n",
       "      <td>0.0000</td>\n",
       "      <td>36.0000</td>\n",
       "      <td>Other</td>\n",
       "    </tr>\n",
       "    <tr>\n",
       "      <th>4</th>\n",
       "      <td>Moored</td>\n",
       "      <td>Cargo</td>\n",
       "      <td>13.0000</td>\n",
       "      <td>99.0000</td>\n",
       "      <td>6.3000</td>\n",
       "      <td>SSE</td>\n",
       "      <td>0.0000</td>\n",
       "      <td>1287.0000</td>\n",
       "      <td>Moored</td>\n",
       "    </tr>\n",
       "  </tbody>\n",
       "</table>\n",
       "</div>"
      ],
      "text/plain": [
       "  navigationalstatus  shiptype   width  length  draught waypoint  speed  dimension  status\n",
       "0      Unknown value   Fishing  4.0000  9.0000      NaN      ENE 0.0000    36.0000   Other\n",
       "1      Unknown value      Rare  8.0000 27.0000      NaN      NNW 0.0000   216.0000   Other\n",
       "2      Unknown value   Fishing  4.0000 11.0000      NaN      SSW 0.0000    44.0000   Other\n",
       "3      Unknown value  Pleasure  3.0000 12.0000      NaN      FIX 0.0000    36.0000   Other\n",
       "4             Moored     Cargo 13.0000 99.0000   6.3000      SSE 0.0000  1287.0000  Moored"
      ]
     },
     "execution_count": 175,
     "metadata": {},
     "output_type": "execute_result"
    }
   ],
   "source": [
    "df.head()"
   ]
  },
  {
   "attachments": {},
   "cell_type": "markdown",
   "metadata": {},
   "source": [
    "As we are using the status variable therefore we will discard the ‘navigationalstatus’ variable. Also there is high corrrelations between ‘dimension’, ‘width’ and ‘length’. So we will disregard ‘width’ and ‘length’ variables."
   ]
  },
  {
   "cell_type": "code",
   "execution_count": 176,
   "metadata": {},
   "outputs": [
    {
     "data": {
      "text/html": [
       "<div>\n",
       "<style scoped>\n",
       "    .dataframe tbody tr th:only-of-type {\n",
       "        vertical-align: middle;\n",
       "    }\n",
       "\n",
       "    .dataframe tbody tr th {\n",
       "        vertical-align: top;\n",
       "    }\n",
       "\n",
       "    .dataframe thead th {\n",
       "        text-align: right;\n",
       "    }\n",
       "</style>\n",
       "<table border=\"1\" class=\"dataframe\">\n",
       "  <thead>\n",
       "    <tr style=\"text-align: right;\">\n",
       "      <th></th>\n",
       "      <th>shiptype</th>\n",
       "      <th>draught</th>\n",
       "      <th>waypoint</th>\n",
       "      <th>speed</th>\n",
       "      <th>dimension</th>\n",
       "      <th>status</th>\n",
       "    </tr>\n",
       "  </thead>\n",
       "  <tbody>\n",
       "    <tr>\n",
       "      <th>0</th>\n",
       "      <td>Fishing</td>\n",
       "      <td>NaN</td>\n",
       "      <td>ENE</td>\n",
       "      <td>0.0000</td>\n",
       "      <td>36.0000</td>\n",
       "      <td>Other</td>\n",
       "    </tr>\n",
       "    <tr>\n",
       "      <th>1</th>\n",
       "      <td>Rare</td>\n",
       "      <td>NaN</td>\n",
       "      <td>NNW</td>\n",
       "      <td>0.0000</td>\n",
       "      <td>216.0000</td>\n",
       "      <td>Other</td>\n",
       "    </tr>\n",
       "    <tr>\n",
       "      <th>2</th>\n",
       "      <td>Fishing</td>\n",
       "      <td>NaN</td>\n",
       "      <td>SSW</td>\n",
       "      <td>0.0000</td>\n",
       "      <td>44.0000</td>\n",
       "      <td>Other</td>\n",
       "    </tr>\n",
       "    <tr>\n",
       "      <th>3</th>\n",
       "      <td>Pleasure</td>\n",
       "      <td>NaN</td>\n",
       "      <td>FIX</td>\n",
       "      <td>0.0000</td>\n",
       "      <td>36.0000</td>\n",
       "      <td>Other</td>\n",
       "    </tr>\n",
       "    <tr>\n",
       "      <th>4</th>\n",
       "      <td>Cargo</td>\n",
       "      <td>6.3000</td>\n",
       "      <td>SSE</td>\n",
       "      <td>0.0000</td>\n",
       "      <td>1287.0000</td>\n",
       "      <td>Moored</td>\n",
       "    </tr>\n",
       "  </tbody>\n",
       "</table>\n",
       "</div>"
      ],
      "text/plain": [
       "   shiptype  draught waypoint  speed  dimension  status\n",
       "0   Fishing      NaN      ENE 0.0000    36.0000   Other\n",
       "1      Rare      NaN      NNW 0.0000   216.0000   Other\n",
       "2   Fishing      NaN      SSW 0.0000    44.0000   Other\n",
       "3  Pleasure      NaN      FIX 0.0000    36.0000   Other\n",
       "4     Cargo   6.3000      SSE 0.0000  1287.0000  Moored"
      ]
     },
     "execution_count": 176,
     "metadata": {},
     "output_type": "execute_result"
    }
   ],
   "source": [
    "df.drop(['navigationalstatus', 'width', 'length'], axis=1, inplace=True)\n",
    "df.head()"
   ]
  },
  {
   "cell_type": "code",
   "execution_count": 177,
   "metadata": {},
   "outputs": [
    {
     "name": "stdout",
     "output_type": "stream",
     "text": [
      "Observations : 3894\n",
      "Variables :6\n",
      "cat_cols: 3\n",
      "num_cols: 3\n",
      "cat_but_car: 0\n",
      "num_but_cat: 0\n"
     ]
    }
   ],
   "source": [
    "cat_cols, num_cols, cat_but_car = grab_col_names(df)"
   ]
  },
  {
   "cell_type": "code",
   "execution_count": 178,
   "metadata": {},
   "outputs": [
    {
     "name": "stdout",
     "output_type": "stream",
     "text": [
      "           shiptype   Ratio\n",
      "Cargo          1716 44.0678\n",
      "Tanker          642 16.4869\n",
      "Pleasure        414 10.6317\n",
      "Fishing         325  8.3462\n",
      "Sailing         215  5.5213\n",
      "Rare            179  4.5968\n",
      "SAR             123  3.1587\n",
      "Passenger       123  3.1587\n",
      "Military         79  2.0288\n",
      "Tug              78  2.0031\n",
      " \n",
      " _____________________________________________________ \n",
      " \n",
      "     waypoint   Ratio\n",
      "SSE       688 17.6682\n",
      "NNW       659 16.9235\n",
      "ESE       616 15.8192\n",
      "NNE       612 15.7165\n",
      "ENE       485 12.4551\n",
      "SSW       307  7.8839\n",
      "FIX       243  6.2404\n",
      "WSW       166  4.2630\n",
      "WNW       115  2.9533\n",
      " \n",
      " _____________________________________________________ \n",
      " \n",
      "                            status   Ratio\n",
      "Under way using engine        2587 66.4355\n",
      "Other                          996 25.5778\n",
      "Moored                         130  3.3385\n",
      "Engaged in fishing             100  2.5681\n",
      "Constrained by her draught      81  2.0801\n",
      " \n",
      " _____________________________________________________ \n",
      " \n"
     ]
    }
   ],
   "source": [
    "# with rare class\n",
    "for col in cat_cols:\n",
    "    cat_summary(df, col)"
   ]
  },
  {
   "cell_type": "code",
   "execution_count": 179,
   "metadata": {},
   "outputs": [],
   "source": [
    "# Splitting data as an output and predictors;\n",
    "y = df['shiptype']\n",
    "X= df.drop('shiptype', axis=1)"
   ]
  },
  {
   "cell_type": "code",
   "execution_count": 180,
   "metadata": {},
   "outputs": [
    {
     "data": {
      "text/html": [
       "<div>\n",
       "<style scoped>\n",
       "    .dataframe tbody tr th:only-of-type {\n",
       "        vertical-align: middle;\n",
       "    }\n",
       "\n",
       "    .dataframe tbody tr th {\n",
       "        vertical-align: top;\n",
       "    }\n",
       "\n",
       "    .dataframe thead th {\n",
       "        text-align: right;\n",
       "    }\n",
       "</style>\n",
       "<table border=\"1\" class=\"dataframe\">\n",
       "  <thead>\n",
       "    <tr style=\"text-align: right;\">\n",
       "      <th></th>\n",
       "      <th>draught</th>\n",
       "      <th>speed</th>\n",
       "      <th>dimension</th>\n",
       "      <th>waypoint_ESE</th>\n",
       "      <th>waypoint_FIX</th>\n",
       "      <th>waypoint_NNE</th>\n",
       "      <th>waypoint_NNW</th>\n",
       "      <th>waypoint_SSE</th>\n",
       "      <th>waypoint_SSW</th>\n",
       "      <th>waypoint_WNW</th>\n",
       "      <th>waypoint_WSW</th>\n",
       "      <th>status_Engaged in fishing</th>\n",
       "      <th>status_Moored</th>\n",
       "      <th>status_Other</th>\n",
       "      <th>status_Under way using engine</th>\n",
       "    </tr>\n",
       "  </thead>\n",
       "  <tbody>\n",
       "    <tr>\n",
       "      <th>0</th>\n",
       "      <td>NaN</td>\n",
       "      <td>0.0000</td>\n",
       "      <td>36.0000</td>\n",
       "      <td>0</td>\n",
       "      <td>0</td>\n",
       "      <td>0</td>\n",
       "      <td>0</td>\n",
       "      <td>0</td>\n",
       "      <td>0</td>\n",
       "      <td>0</td>\n",
       "      <td>0</td>\n",
       "      <td>0</td>\n",
       "      <td>0</td>\n",
       "      <td>1</td>\n",
       "      <td>0</td>\n",
       "    </tr>\n",
       "    <tr>\n",
       "      <th>1</th>\n",
       "      <td>NaN</td>\n",
       "      <td>0.0000</td>\n",
       "      <td>216.0000</td>\n",
       "      <td>0</td>\n",
       "      <td>0</td>\n",
       "      <td>0</td>\n",
       "      <td>1</td>\n",
       "      <td>0</td>\n",
       "      <td>0</td>\n",
       "      <td>0</td>\n",
       "      <td>0</td>\n",
       "      <td>0</td>\n",
       "      <td>0</td>\n",
       "      <td>1</td>\n",
       "      <td>0</td>\n",
       "    </tr>\n",
       "    <tr>\n",
       "      <th>2</th>\n",
       "      <td>NaN</td>\n",
       "      <td>0.0000</td>\n",
       "      <td>44.0000</td>\n",
       "      <td>0</td>\n",
       "      <td>0</td>\n",
       "      <td>0</td>\n",
       "      <td>0</td>\n",
       "      <td>0</td>\n",
       "      <td>1</td>\n",
       "      <td>0</td>\n",
       "      <td>0</td>\n",
       "      <td>0</td>\n",
       "      <td>0</td>\n",
       "      <td>1</td>\n",
       "      <td>0</td>\n",
       "    </tr>\n",
       "  </tbody>\n",
       "</table>\n",
       "</div>"
      ],
      "text/plain": [
       "   draught  speed  dimension  waypoint_ESE  waypoint_FIX  waypoint_NNE  waypoint_NNW  waypoint_SSE  waypoint_SSW  waypoint_WNW  waypoint_WSW  status_Engaged in fishing  status_Moored  status_Other  status_Under way using engine\n",
       "0      NaN 0.0000    36.0000             0             0             0             0             0             0             0             0                          0              0             1                              0\n",
       "1      NaN 0.0000   216.0000             0             0             0             1             0             0             0             0                          0              0             1                              0\n",
       "2      NaN 0.0000    44.0000             0             0             0             0             0             1             0             0                          0              0             1                              0"
      ]
     },
     "execution_count": 180,
     "metadata": {},
     "output_type": "execute_result"
    }
   ],
   "source": [
    "# One hot encoding \n",
    "\n",
    "def one_hot_encode(dataframe, categorical_cols, drop_first = True):\n",
    "    dataframe = pd.get_dummies(dataframe, columns=categorical_cols, drop_first=drop_first)\n",
    "    return dataframe\n",
    "\n",
    "X = one_hot_encode(X, ['waypoint', 'status'])\n",
    "X.head(3)"
   ]
  },
  {
   "attachments": {},
   "cell_type": "markdown",
   "metadata": {},
   "source": [
    "For the Scaling process we will use the Robust Scaler as it has better results to outliers"
   ]
  },
  {
   "cell_type": "code",
   "execution_count": 181,
   "metadata": {},
   "outputs": [
    {
     "data": {
      "text/html": [
       "<div>\n",
       "<style scoped>\n",
       "    .dataframe tbody tr th:only-of-type {\n",
       "        vertical-align: middle;\n",
       "    }\n",
       "\n",
       "    .dataframe tbody tr th {\n",
       "        vertical-align: top;\n",
       "    }\n",
       "\n",
       "    .dataframe thead th {\n",
       "        text-align: right;\n",
       "    }\n",
       "</style>\n",
       "<table border=\"1\" class=\"dataframe\">\n",
       "  <thead>\n",
       "    <tr style=\"text-align: right;\">\n",
       "      <th></th>\n",
       "      <th>draught</th>\n",
       "      <th>speed</th>\n",
       "      <th>dimension</th>\n",
       "      <th>waypoint_ESE</th>\n",
       "      <th>waypoint_FIX</th>\n",
       "      <th>waypoint_NNE</th>\n",
       "      <th>waypoint_NNW</th>\n",
       "      <th>waypoint_SSE</th>\n",
       "      <th>waypoint_SSW</th>\n",
       "      <th>waypoint_WNW</th>\n",
       "      <th>waypoint_WSW</th>\n",
       "      <th>status_Engaged in fishing</th>\n",
       "      <th>status_Moored</th>\n",
       "      <th>status_Other</th>\n",
       "      <th>status_Under way using engine</th>\n",
       "    </tr>\n",
       "  </thead>\n",
       "  <tbody>\n",
       "    <tr>\n",
       "      <th>0</th>\n",
       "      <td>NaN</td>\n",
       "      <td>-1.6349</td>\n",
       "      <td>-0.2872</td>\n",
       "      <td>0.0000</td>\n",
       "      <td>0.0000</td>\n",
       "      <td>0.0000</td>\n",
       "      <td>0.0000</td>\n",
       "      <td>0.0000</td>\n",
       "      <td>0.0000</td>\n",
       "      <td>0.0000</td>\n",
       "      <td>0.0000</td>\n",
       "      <td>0.0000</td>\n",
       "      <td>0.0000</td>\n",
       "      <td>1.0000</td>\n",
       "      <td>-1.0000</td>\n",
       "    </tr>\n",
       "    <tr>\n",
       "      <th>1</th>\n",
       "      <td>NaN</td>\n",
       "      <td>-1.6349</td>\n",
       "      <td>-0.2478</td>\n",
       "      <td>0.0000</td>\n",
       "      <td>0.0000</td>\n",
       "      <td>0.0000</td>\n",
       "      <td>1.0000</td>\n",
       "      <td>0.0000</td>\n",
       "      <td>0.0000</td>\n",
       "      <td>0.0000</td>\n",
       "      <td>0.0000</td>\n",
       "      <td>0.0000</td>\n",
       "      <td>0.0000</td>\n",
       "      <td>1.0000</td>\n",
       "      <td>-1.0000</td>\n",
       "    </tr>\n",
       "    <tr>\n",
       "      <th>2</th>\n",
       "      <td>NaN</td>\n",
       "      <td>-1.6349</td>\n",
       "      <td>-0.2854</td>\n",
       "      <td>0.0000</td>\n",
       "      <td>0.0000</td>\n",
       "      <td>0.0000</td>\n",
       "      <td>0.0000</td>\n",
       "      <td>0.0000</td>\n",
       "      <td>1.0000</td>\n",
       "      <td>0.0000</td>\n",
       "      <td>0.0000</td>\n",
       "      <td>0.0000</td>\n",
       "      <td>0.0000</td>\n",
       "      <td>1.0000</td>\n",
       "      <td>-1.0000</td>\n",
       "    </tr>\n",
       "    <tr>\n",
       "      <th>3</th>\n",
       "      <td>NaN</td>\n",
       "      <td>-1.6349</td>\n",
       "      <td>-0.2872</td>\n",
       "      <td>0.0000</td>\n",
       "      <td>1.0000</td>\n",
       "      <td>0.0000</td>\n",
       "      <td>0.0000</td>\n",
       "      <td>0.0000</td>\n",
       "      <td>0.0000</td>\n",
       "      <td>0.0000</td>\n",
       "      <td>0.0000</td>\n",
       "      <td>0.0000</td>\n",
       "      <td>0.0000</td>\n",
       "      <td>1.0000</td>\n",
       "      <td>-1.0000</td>\n",
       "    </tr>\n",
       "    <tr>\n",
       "      <th>4</th>\n",
       "      <td>0.0000</td>\n",
       "      <td>-1.6349</td>\n",
       "      <td>-0.0138</td>\n",
       "      <td>0.0000</td>\n",
       "      <td>0.0000</td>\n",
       "      <td>0.0000</td>\n",
       "      <td>0.0000</td>\n",
       "      <td>1.0000</td>\n",
       "      <td>0.0000</td>\n",
       "      <td>0.0000</td>\n",
       "      <td>0.0000</td>\n",
       "      <td>0.0000</td>\n",
       "      <td>1.0000</td>\n",
       "      <td>0.0000</td>\n",
       "      <td>-1.0000</td>\n",
       "    </tr>\n",
       "  </tbody>\n",
       "</table>\n",
       "</div>"
      ],
      "text/plain": [
       "   draught   speed  dimension  waypoint_ESE  waypoint_FIX  waypoint_NNE  waypoint_NNW  waypoint_SSE  waypoint_SSW  waypoint_WNW  waypoint_WSW  status_Engaged in fishing  status_Moored  status_Other  status_Under way using engine\n",
       "0      NaN -1.6349    -0.2872        0.0000        0.0000        0.0000        0.0000        0.0000        0.0000        0.0000        0.0000                     0.0000         0.0000        1.0000                        -1.0000\n",
       "1      NaN -1.6349    -0.2478        0.0000        0.0000        0.0000        1.0000        0.0000        0.0000        0.0000        0.0000                     0.0000         0.0000        1.0000                        -1.0000\n",
       "2      NaN -1.6349    -0.2854        0.0000        0.0000        0.0000        0.0000        0.0000        1.0000        0.0000        0.0000                     0.0000         0.0000        1.0000                        -1.0000\n",
       "3      NaN -1.6349    -0.2872        0.0000        1.0000        0.0000        0.0000        0.0000        0.0000        0.0000        0.0000                     0.0000         0.0000        1.0000                        -1.0000\n",
       "4   0.0000 -1.6349    -0.0138        0.0000        0.0000        0.0000        0.0000        1.0000        0.0000        0.0000        0.0000                     0.0000         1.0000        0.0000                        -1.0000"
      ]
     },
     "execution_count": 181,
     "metadata": {},
     "output_type": "execute_result"
    }
   ],
   "source": [
    "scaler = RobustScaler()\n",
    "X = pd.DataFrame(scaler.fit_transform(X), columns=X.columns)\n",
    "X.head()"
   ]
  },
  {
   "cell_type": "code",
   "execution_count": 182,
   "metadata": {},
   "outputs": [
    {
     "name": "stdout",
     "output_type": "stream",
     "text": [
      "           n_miss  ratio\n",
      "draught      1017 0.2612\n",
      "waypoint        3 0.0008\n",
      "speed           3 0.0008\n",
      "dimension     123 0.0316\n"
     ]
    }
   ],
   "source": [
    "missing_values_table(df)"
   ]
  },
  {
   "attachments": {},
   "cell_type": "markdown",
   "metadata": {},
   "source": [
    "## Modelling"
   ]
  },
  {
   "attachments": {},
   "cell_type": "markdown",
   "metadata": {},
   "source": [
    "We will use LightGBM, as it's Quick and Accurate and ther is also no need to drop missing as lightGBM is usefull in that case as well."
   ]
  },
  {
   "cell_type": "code",
   "execution_count": 197,
   "metadata": {},
   "outputs": [],
   "source": [
    "# Splitting the data \n",
    "X_train, X_test, y_train, y_test = train_test_split(X, y, train_size=0.7, random_state=42)"
   ]
  },
  {
   "cell_type": "code",
   "execution_count": 184,
   "metadata": {},
   "outputs": [
    {
     "name": "stdout",
     "output_type": "stream",
     "text": [
      "Training data shape =>  (2725, 15)\n",
      "Testing data shape =>  (1169, 15)\n"
     ]
    }
   ],
   "source": [
    "# lets see our training data \n",
    "print('Training data shape => ',X_train.shape)\n",
    "print('Testing data shape => ', X_test.shape)"
   ]
  },
  {
   "cell_type": "code",
   "execution_count": null,
   "metadata": {},
   "outputs": [],
   "source": []
  },
  {
   "cell_type": "code",
   "execution_count": 185,
   "metadata": {},
   "outputs": [
    {
     "data": {
      "text/plain": [
       "LGBMClassifier(random_state=17)"
      ]
     },
     "execution_count": 185,
     "metadata": {},
     "output_type": "execute_result"
    }
   ],
   "source": [
    "lgbm = LGBMClassifier(random_state=17)\n",
    "lgbm"
   ]
  },
  {
   "cell_type": "code",
   "execution_count": 186,
   "metadata": {},
   "outputs": [
    {
     "name": "stdout",
     "output_type": "stream",
     "text": [
      "Fitting 10 folds for each of 256 candidates, totalling 2560 fits\n"
     ]
    },
    {
     "data": {
      "text/plain": [
       "GridSearchCV(cv=10, estimator=LGBMClassifier(random_state=17), n_jobs=-1,\n",
       "             param_grid={'colsample_bytree': [0.3, 0.5, 0.7, 1],\n",
       "                         'learning_rate': [0.001, 0.01, 0.05, 0.1],\n",
       "                         'max_depth': [2, 5, 8, 10],\n",
       "                         'n_estimators': [200, 400, 600, 900]},\n",
       "             verbose=True)"
      ]
     },
     "execution_count": 186,
     "metadata": {},
     "output_type": "execute_result"
    }
   ],
   "source": [
    "# defining the hyper-parameters for lgbm \n",
    "\n",
    "lgbm_params = {'max_depth': [2,5,8,10],\n",
    "               'learning_rate':[0.001,0.01,0.05,0.1],\n",
    "               'n_estimators':[200, 400, 600, 900],\n",
    "                'colsample_bytree':[0.3, 0.5, 0.7, 1]}\n",
    "\n",
    "lgbm_cv = GridSearchCV(lgbm, lgbm_params, cv=10, n_jobs=-1, verbose=True)\n",
    "lgbm_cv.fit(X,y) "
   ]
  },
  {
   "cell_type": "code",
   "execution_count": 201,
   "metadata": {},
   "outputs": [
    {
     "data": {
      "image/png": "[encoded data removed]",
      "text/plain": [
       "<Figure size 720x720 with 1 Axes>"
      ]
     },
     "metadata": {},
     "output_type": "display_data"
    }
   ],
   "source": [
    "def plot_importance(model, features, num = len(X)):\n",
    "    feature_imp = pd.DataFrame({'Value' : model.feature_importances_, 'Feature': features.columns})\n",
    "    plt.figure(figsize=(10,10))\n",
    "    sns.set(font_scale=1)\n",
    "    sns.barplot(x = 'Value', y = 'Feature', data = feature_imp.sort_values(by='Value', ascending=False)[0:num])\n",
    "    plt.title('Features')\n",
    "    plt.tight_layout()\n",
    "    plt.show()\n",
    "\n",
    "\n",
    "lgbm_f = lgbm.set_params(**lgbm_cv.best_params_, random_state=17).fit(X_train,y_train)\n",
    "plot_importance(lgbm_f, X_train)"
   ]
  },
  {
   "cell_type": "code",
   "execution_count": 202,
   "metadata": {},
   "outputs": [
    {
     "data": {
      "text/plain": [
       "0.6621500147362217"
      ]
     },
     "execution_count": 202,
     "metadata": {},
     "output_type": "execute_result"
    }
   ],
   "source": [
    "lgbm_final = lgbm.set_params(**lgbm_cv.best_params_, random_state=17)\n",
    "lgbm_results = cross_val_score(lgbm_final, X_test, y_test, cv =10, scoring=\"accuracy\").mean()\n",
    "lgbm_results"
   ]
  },
  {
   "cell_type": "code",
   "execution_count": 203,
   "metadata": {},
   "outputs": [],
   "source": [
    "from sklearn.impute import SimpleImputer\n",
    "\n",
    "# Create an imputer object with median strategy\n",
    "imputer = SimpleImputer(strategy='median')\n",
    "\n",
    "# Fit the imputer on X_train\n",
    "imputer.fit(X_train)\n",
    "\n",
    "# Transform X_train and X_test using the trained imputer\n",
    "X_train = imputer.transform(X_train)\n",
    "X_test = imputer.transform(X_test)\n",
    "\n",
    "# Now the input data should be free of NaN or infinity values\n"
   ]
  },
  {
   "attachments": {},
   "cell_type": "markdown",
   "metadata": {},
   "source": [
    "The Accuracy is around 68% this score is nice for multiclass prediction \n"
   ]
  },
  {
   "cell_type": "code",
   "execution_count": 291,
   "metadata": {},
   "outputs": [],
   "source": [
    "\n",
    "def superClassifier(acc_df = False, class_report = False, obs = False ):\n",
    "    models = {\n",
    "    \"Logistic Regression\": LogisticRegression(),\n",
    "    \"Decision Tree Classifier\": DecisionTreeClassifier(),\n",
    "    \"Random Forest Classifier\": RandomForestClassifier(),\n",
    "    \"SVC\": SVC(),\n",
    "    \"KNeighbors Classifier\": KNeighborsClassifier(),\n",
    "    }\n",
    "    \n",
    "    print('All the Classification Models Loaded !!')\n",
    "    print('_'*100)\n",
    "    accuracies = {}\n",
    "    print('Starting the Training of the Models...')\n",
    "    for name, model in models.items():\n",
    "        print(' ')\n",
    "        print(\"Model training on : \", name)\n",
    "        model.fit(X_train,y_train) \n",
    "        y_pred = model.predict(X_test)\n",
    "        report = classification_report(y_test, y_pred)\n",
    "        print(f\"{name} model training complete...\")\n",
    "        accuracy = accuracy_score(y_test,y_pred)\n",
    "        accuracies[name] = accuracy\n",
    "        print(f\"Accuracy: {accuracies[name]}\")\n",
    "        print(\" \")\n",
    "\n",
    "        if class_report == True:\n",
    "            print(\"The Entire Classification report of \", name)\n",
    "            print(report)\n",
    "            print('_'*100)\n",
    "            print(' ')\n",
    "        \n",
    "        if obs:\n",
    "            print(\"Pie Chart showing Predicted labels of {} Model\".format(name))\n",
    "            pred_counts = pd.Series(y_pred).value_counts()\n",
    "            plt.pie(pred_counts, labels= pred_counts.index, autopct='%1.2f%%')\n",
    "            plt.title('Predicted Labels')\n",
    "            plt.show()\n",
    "            print('_'*100)\n",
    "\n",
    "    if acc_df == True:\n",
    "        df = pd.DataFrame.from_dict(accuracies, orient='index', columns=['Accuracy'])\n",
    "        df.sort_values(by='Accuracy', ascending=False, inplace=True)\n",
    "        print(f'Models with their accuracy in decreasing order -:')\n",
    "        print('_'*100)\n",
    "        print(df)\n",
    "        print('_'*100)\n",
    "    \n",
    "    max_accuracy = max(accuracies.values())\n",
    "    print(\"Best performing model(s):\")\n",
    "    for model, accuracy in accuracies.items():\n",
    "        if accuracy == max_accuracy:\n",
    "            print(f\"{model}: {accuracy}\")    "
   ]
  },
  {
   "cell_type": "code",
   "execution_count": 292,
   "metadata": {},
   "outputs": [
    {
     "name": "stdout",
     "output_type": "stream",
     "text": [
      "All the Classification Models Loaded !!\n",
      "____________________________________________________________________________________________________\n",
      "Starting the Training of the Models...\n",
      " \n",
      "Model training on :  Logistic Regression\n",
      "Logistic Regression model training complete...\n",
      "Accuracy: 0.5372112917023096\n",
      " \n",
      "The Entire Classification report of  Logistic Regression\n",
      "              precision    recall  f1-score   support\n",
      "\n",
      "       Cargo       0.62      0.93      0.74       484\n",
      "     Fishing       0.57      0.31      0.40        95\n",
      "    Military       0.20      0.14      0.17        21\n",
      "   Passenger       0.12      0.03      0.04        40\n",
      "    Pleasure       0.40      0.86      0.55       129\n",
      "        Rare       0.41      0.17      0.24        63\n",
      "         SAR       0.29      0.16      0.20        38\n",
      "     Sailing       0.00      0.00      0.00        68\n",
      "      Tanker       0.44      0.09      0.15       206\n",
      "         Tug       0.00      0.00      0.00        25\n",
      "\n",
      "    accuracy                           0.54      1169\n",
      "   macro avg       0.30      0.27      0.25      1169\n",
      "weighted avg       0.46      0.54      0.45      1169\n",
      "\n",
      "____________________________________________________________________________________________________\n",
      " \n",
      "Pie Chart showing Predicted labels of Logistic Regression Model\n"
     ]
    },
    {
     "data": {
      "image/png": "[encoded data removed]",
      "text/plain": [
       "<Figure size 432x288 with 1 Axes>"
      ]
     },
     "metadata": {},
     "output_type": "display_data"
    },
    {
     "name": "stdout",
     "output_type": "stream",
     "text": [
      "____________________________________________________________________________________________________\n",
      " \n",
      "Model training on :  Decision Tree Classifier\n",
      "Decision Tree Classifier model training complete...\n",
      "Accuracy: 0.6253207869974337\n",
      " \n",
      "The Entire Classification report of  Decision Tree Classifier\n",
      "              precision    recall  f1-score   support\n",
      "\n",
      "       Cargo       0.79      0.82      0.80       484\n",
      "     Fishing       0.48      0.52      0.49        95\n",
      "    Military       0.36      0.38      0.37        21\n",
      "   Passenger       0.33      0.35      0.34        40\n",
      "    Pleasure       0.47      0.53      0.50       129\n",
      "        Rare       0.37      0.35      0.36        63\n",
      "         SAR       0.44      0.39      0.42        38\n",
      "     Sailing       0.36      0.24      0.29        68\n",
      "      Tanker       0.68      0.63      0.66       206\n",
      "         Tug       0.50      0.48      0.49        25\n",
      "\n",
      "    accuracy                           0.63      1169\n",
      "   macro avg       0.48      0.47      0.47      1169\n",
      "weighted avg       0.62      0.63      0.62      1169\n",
      "\n",
      "____________________________________________________________________________________________________\n",
      " \n",
      "Pie Chart showing Predicted labels of Decision Tree Classifier Model\n"
     ]
    },
    {
     "data": {
      "image/png": "[encoded data removed]",
      "text/plain": [
       "<Figure size 432x288 with 1 Axes>"
      ]
     },
     "metadata": {},
     "output_type": "display_data"
    },
    {
     "name": "stdout",
     "output_type": "stream",
     "text": [
      "____________________________________________________________________________________________________\n",
      " \n",
      "Model training on :  Random Forest Classifier\n",
      "Random Forest Classifier model training complete...\n",
      "Accuracy: 0.6390076988879384\n",
      " \n",
      "The Entire Classification report of  Random Forest Classifier\n",
      "              precision    recall  f1-score   support\n",
      "\n",
      "       Cargo       0.76      0.92      0.83       484\n",
      "     Fishing       0.53      0.59      0.56        95\n",
      "    Military       0.32      0.29      0.30        21\n",
      "   Passenger       0.38      0.20      0.26        40\n",
      "    Pleasure       0.43      0.50      0.46       129\n",
      "        Rare       0.41      0.35      0.38        63\n",
      "         SAR       0.38      0.37      0.37        38\n",
      "     Sailing       0.32      0.25      0.28        68\n",
      "      Tanker       0.82      0.51      0.63       206\n",
      "         Tug       0.67      0.40      0.50        25\n",
      "\n",
      "    accuracy                           0.64      1169\n",
      "   macro avg       0.50      0.44      0.46      1169\n",
      "weighted avg       0.63      0.64      0.62      1169\n",
      "\n",
      "____________________________________________________________________________________________________\n",
      " \n",
      "Pie Chart showing Predicted labels of Random Forest Classifier Model\n"
     ]
    },
    {
     "data": {
      "image/png": "[encoded data removed]",
      "text/plain": [
       "<Figure size 432x288 with 1 Axes>"
      ]
     },
     "metadata": {},
     "output_type": "display_data"
    },
    {
     "name": "stdout",
     "output_type": "stream",
     "text": [
      "____________________________________________________________________________________________________\n",
      " \n",
      "Model training on :  SVC\n",
      "SVC model training complete...\n",
      "Accuracy: 0.5842600513259196\n",
      " \n",
      "The Entire Classification report of  SVC\n",
      "              precision    recall  f1-score   support\n",
      "\n",
      "       Cargo       0.65      0.95      0.77       484\n",
      "     Fishing       0.66      0.28      0.40        95\n",
      "    Military       0.18      0.19      0.19        21\n",
      "   Passenger       0.00      0.00      0.00        40\n",
      "    Pleasure       0.40      0.91      0.55       129\n",
      "        Rare       0.62      0.25      0.36        63\n",
      "         SAR       0.45      0.13      0.20        38\n",
      "     Sailing       0.00      0.00      0.00        68\n",
      "      Tanker       0.83      0.25      0.39       206\n",
      "         Tug       0.00      0.00      0.00        25\n",
      "\n",
      "    accuracy                           0.58      1169\n",
      "   macro avg       0.38      0.30      0.29      1169\n",
      "weighted avg       0.56      0.58      0.51      1169\n",
      "\n",
      "____________________________________________________________________________________________________\n",
      " \n",
      "Pie Chart showing Predicted labels of SVC Model\n"
     ]
    },
    {
     "data": {
      "image/png": "[encoded data removed]",
      "text/plain": [
       "<Figure size 432x288 with 1 Axes>"
      ]
     },
     "metadata": {},
     "output_type": "display_data"
    },
    {
     "name": "stdout",
     "output_type": "stream",
     "text": [
      "____________________________________________________________________________________________________\n",
      " \n",
      "Model training on :  KNeighbors Classifier\n",
      "KNeighbors Classifier model training complete...\n",
      "Accuracy: 0.58169375534645\n",
      " \n",
      "The Entire Classification report of  KNeighbors Classifier\n",
      "              precision    recall  f1-score   support\n",
      "\n",
      "       Cargo       0.70      0.89      0.78       484\n",
      "     Fishing       0.49      0.47      0.48        95\n",
      "    Military       0.20      0.14      0.17        21\n",
      "   Passenger       0.33      0.10      0.15        40\n",
      "    Pleasure       0.38      0.56      0.45       129\n",
      "        Rare       0.41      0.21      0.27        63\n",
      "         SAR       0.29      0.11      0.15        38\n",
      "     Sailing       0.17      0.12      0.14        68\n",
      "      Tanker       0.70      0.50      0.58       206\n",
      "         Tug       0.00      0.00      0.00        25\n",
      "\n",
      "    accuracy                           0.58      1169\n",
      "   macro avg       0.37      0.31      0.32      1169\n",
      "weighted avg       0.55      0.58      0.55      1169\n",
      "\n",
      "____________________________________________________________________________________________________\n",
      " \n",
      "Pie Chart showing Predicted labels of KNeighbors Classifier Model\n"
     ]
    },
    {
     "data": {
      "image/png": "[encoded data removed]",
      "text/plain": [
       "<Figure size 432x288 with 1 Axes>"
      ]
     },
     "metadata": {},
     "output_type": "display_data"
    },
    {
     "name": "stdout",
     "output_type": "stream",
     "text": [
      "____________________________________________________________________________________________________\n",
      "Models with their accuracy in decreasing order -:\n",
      "____________________________________________________________________________________________________\n",
      "                          Accuracy\n",
      "Random Forest Classifier    0.6390\n",
      "Decision Tree Classifier    0.6253\n",
      "SVC                         0.5843\n",
      "KNeighbors Classifier       0.5817\n",
      "Logistic Regression         0.5372\n",
      "____________________________________________________________________________________________________\n",
      "Best performing model(s):\n",
      "Random Forest Classifier: 0.6390076988879384\n"
     ]
    }
   ],
   "source": [
    "superClassifier(obs=True, acc_df=True, class_report=True)"
   ]
  },
  {
   "attachments": {},
   "cell_type": "markdown",
   "metadata": {},
   "source": [
    "## Feature Importance"
   ]
  },
  {
   "cell_type": "code",
   "execution_count": 205,
   "metadata": {},
   "outputs": [
    {
     "name": "stdout",
     "output_type": "stream",
     "text": [
      "Accuracy : 0.660393498716852\n"
     ]
    }
   ],
   "source": [
    "from sklearn.metrics import accuracy_score\n",
    "accuracy = accuracy_score(y_test,y_pred)\n",
    "print(\"Accuracy :\", accuracy)\n"
   ]
  },
  {
   "cell_type": "code",
   "execution_count": 206,
   "metadata": {},
   "outputs": [
    {
     "data": {
      "image/png": "[encoded data removed]",
      "text/plain": [
       "<Figure size 432x288 with 1 Axes>"
      ]
     },
     "metadata": {},
     "output_type": "display_data"
    }
   ],
   "source": [
    "# Pie chart of acutal values \n",
    "actual_counts = y_test.value_counts()\n",
    "plt.pie(actual_counts, labels=actual_counts.index, autopct='%1.2f%%')\n",
    "plt.title('actual labels')\n",
    "plt.show()\n"
   ]
  },
  {
   "cell_type": "code",
   "execution_count": null,
   "metadata": {},
   "outputs": [],
   "source": [
    "from sklearn.metrics import confusion_matrix\n",
    "\n",
    "# create confusion matrix\n",
    "cm = confusion_matrix(y_test, y_pred)\n",
    "\n",
    "# plot confusion matrix\n",
    "plt.imshow(cm, cmap=plt.cm.Blues)\n",
    "plt.title(\"Confusion Matrix\")\n",
    "plt.colorbar()\n",
    "tick_marks = np.arange(len(set(y)))\n",
    "plt.xticks(tick_marks, set(y), rotation=90)\n",
    "plt.yticks(tick_marks, set(y))\n",
    "plt.xlabel('Predicted Label')\n",
    "plt.ylabel('True Label')\n",
    "plt.show()\n"
   ]
  },
  {
   "cell_type": "code",
   "execution_count": null,
   "metadata": {},
   "outputs": [],
   "source": [
    "random_ship = X.sample(1)\n",
    "random_ship"
   ]
  },
  {
   "cell_type": "code",
   "execution_count": null,
   "metadata": {},
   "outputs": [],
   "source": [
    "def estimator(sample):\n",
    "    \n",
    "    print(f\"Actual ship type \\t : {lgbm_final.predict(random_ship)[0]}\")\n",
    "    temp = y.reset_index()\n",
    "    print(f\" Predicted Ship type \\t : {temp[temp.index == sample.index[0]].iloc[0,1]} \")"
   ]
  },
  {
   "cell_type": "code",
   "execution_count": null,
   "metadata": {},
   "outputs": [],
   "source": [
    "print (estimator(random_ship))"
   ]
  },
  {
   "attachments": {},
   "cell_type": "markdown",
   "metadata": {},
   "source": []
  },
  {
   "cell_type": "code",
   "execution_count": null,
   "metadata": {},
   "outputs": [],
   "source": []
  }
 ],
 "metadata": {
  "kernelspec": {
   "display_name": "Python 3",
   "language": "python",
   "name": "python3"
  },
  "language_info": {
   "codemirror_mode": {
    "name": "ipython",
    "version": 3
   },
   "file_extension": ".py",
   "mimetype": "text/x-python",
   "name": "python",
   "nbconvert_exporter": "python",
   "pygments_lexer": "ipython3",
   "version": "3.9.5"
  },
  "orig_nbformat": 4,
  "vscode": {
   "interpreter": {
    "hash": "c057f2c16e68676003d96bf48b31ad7a1f3fb73e429208158de9ae49eb6d592f"
   }
  }
 },
 "nbformat": 4,
 "nbformat_minor": 2
}
